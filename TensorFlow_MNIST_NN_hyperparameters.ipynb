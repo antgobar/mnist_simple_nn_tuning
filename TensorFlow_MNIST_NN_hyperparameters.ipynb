{
 "cells": [
  {
   "cell_type": "markdown",
   "metadata": {},
   "source": [
    "# Deep Neural Network for MNIST Classification"
   ]
  },
  {
   "cell_type": "markdown",
   "metadata": {},
   "source": [
    "### Import the relevant packages"
   ]
  },
  {
   "cell_type": "code",
   "execution_count": 162,
   "metadata": {
    "collapsed": true
   },
   "outputs": [],
   "source": [
    "import numpy as np\n",
    "import matplotlib.pyplot as plt\n",
    "import time as t\n",
    "import tensorflow as tf\n",
    "import tensorflow_datasets as tfds"
   ]
  },
  {
   "cell_type": "markdown",
   "metadata": {},
   "source": [
    "### Data is loaded and preprocessed. "
   ]
  },
  {
   "cell_type": "code",
   "execution_count": 163,
   "metadata": {
    "collapsed": true
   },
   "outputs": [],
   "source": [
    "mnist_dataset, mnist_info = tfds.load(name='mnist', with_info=True, as_supervised=True)\n",
    "\n",
    "mnist_train, mnist_test = mnist_dataset['train'], mnist_dataset['test']\n",
    "\n",
    "num_validation_samples = 0.1 * mnist_info.splits['train'].num_examples\n",
    "\n",
    "num_validation_samples = tf.cast(num_validation_samples, tf.int64)\n",
    "\n",
    "num_test_samples = mnist_info.splits['test'].num_examples\n",
    "\n",
    "num_test_samples = tf.cast(num_test_samples, tf.int64)\n",
    "\n",
    "def scale(image, label):\n",
    "    image = tf.cast(image, tf.float32)\n",
    "    image /= 255.\n",
    "\n",
    "    return image, label\n",
    "\n",
    "scaled_train_and_validation_data = mnist_train.map(scale)\n",
    "\n",
    "test_data = mnist_test.map(scale)\n",
    "\n",
    "BUFFER_SIZE = 10000\n",
    "\n",
    "shuffled_train_and_validation_data = scaled_train_and_validation_data.shuffle(BUFFER_SIZE)\n",
    "\n",
    "validation_data = shuffled_train_and_validation_data.take(num_validation_samples)\n",
    "\n",
    "train_data = shuffled_train_and_validation_data.skip(num_validation_samples)\n",
    "\n",
    "BATCH_SIZE = 100\n",
    "\n",
    "train_data = train_data.batch(BATCH_SIZE)\n",
    "\n",
    "validation_data = validation_data.batch(num_validation_samples)\n",
    "\n",
    "test_data = test_data.batch(num_test_samples)\n",
    "\n",
    "validation_inputs, validation_targets = next(iter(validation_data))"
   ]
  },
  {
   "cell_type": "markdown",
   "metadata": {},
   "source": [
    "### Function to create neural net structure and run model"
   ]
  },
  {
   "cell_type": "code",
   "execution_count": 164,
   "metadata": {
    "collapsed": true
   },
   "outputs": [],
   "source": [
    "def make_and_train_NN(HL_size, HL_number, HL_act_function, num_epochs):\n",
    "    \n",
    "    input_size = 784\n",
    "    output_size = 10\n",
    "    \n",
    "    input_layer = tf.keras.layers.Flatten(input_shape=(28, 28, 1))\n",
    "    hidden_layers = [None for _ in range(HL_number)]\n",
    "    output_layer = tf.keras.layers.Dense(output_size, activation='softmax')\n",
    "\n",
    "    for i, n in enumerate(hidden_layers):\n",
    "        hidden_layer = tf.keras.layers.Dense(HL_size, activation=act_func)\n",
    "        hidden_layers[i] = hidden_layer\n",
    "    \n",
    "    model = tf.keras.Sequential([input_layer] + hid_layers + [output_layer])\n",
    "    \n",
    "    model.compile(optimizer='adam', loss='sparse_categorical_crossentropy', metrics=['accuracy'])\n",
    "\n",
    "    results = model.fit(train_data, epochs=num_epochs, validation_data=(validation_inputs, validation_targets), verbose =0)\n",
    "    val_accuracy = results.history['val_accuracy']\n",
    "    \n",
    "    return val_accuracy"
   ]
  },
  {
   "cell_type": "markdown",
   "metadata": {},
   "source": [
    "### Function to run multiple layers"
   ]
  },
  {
   "cell_type": "code",
   "execution_count": 36,
   "metadata": {
    "collapsed": false
   },
   "outputs": [],
   "source": [
    "def train_many_NNs(HL_size_min, \n",
    "                   HL_size_max, \n",
    "                   size_step, \n",
    "                   HL_no_min, \n",
    "                   HL_no_max,\n",
    "                   no_step,\n",
    "                   HL_act_function,\n",
    "                   num_epochs):\n",
    "    \n",
    "    accuracies = []\n",
    "    HL_sizes = list(range(HL_size_min, HL_size_max + size_step, size_step))\n",
    "    HL_numbers = list(range(HL_no_min, HL_no_max + no_step, no_step))\n",
    "    \n",
    "    HL_size = HL_size_min\n",
    "    for i in range(HL_size_min, HL_size_max + size_step, size_step):\n",
    "        accuracies_sub = []\n",
    "        HL_number = HL_no_min\n",
    "        for i in range(HL_no_min, HL_no_max + no_step, no_step,):\n",
    "            \n",
    "            accuracy = make_and_train_NN(HL_size, HL_number, HL_act_function, num_epochs)\n",
    "            accuracies_sub.append(accuracy)\n",
    "                \n",
    "            HL_number += no_step\n",
    "\n",
    "        HL_size += size_step\n",
    "        \n",
    "        accuracies.append(accuracies_sub)\n",
    "        \n",
    "    return accuracies, HL_sizes, HL_numbers"
   ]
  },
  {
   "cell_type": "code",
   "execution_count": 48,
   "metadata": {
    "collapsed": false
   },
   "outputs": [],
   "source": [
    "start = t.time()\n",
    "accuracies, HL_sizes, HL_numbers = train_many_NNs(10, 20, 5, 2, 4, 2, 'relu', 5)\n",
    "total_time = round((t.time() - start)/60,1)"
   ]
  },
  {
   "cell_type": "code",
   "execution_count": 49,
   "metadata": {
    "collapsed": false
   },
   "outputs": [
    {
     "name": "stdout",
     "output_type": "stream",
     "text": [
      "1/1 [==============================] - 0s 1ms/step - loss: 0.1284 - accuracy: 0.9614\n"
     ]
    }
   ],
   "source": [
    "# This is used to check the model accuracy with respect to the test data\n",
    "# test_loss, test_accuracy = model.evaluate(test_data)"
   ]
  },
  {
   "cell_type": "markdown",
   "metadata": {},
   "source": [
    "### Plot validation accuracy vs epochs for different neural net dimensions (hyperparameters)"
   ]
  },
  {
   "cell_type": "code",
   "execution_count": 167,
   "metadata": {
    "collapsed": false
   },
   "outputs": [
    {
     "data": {
      "image/png": "[encoded data removed]",
      "text/plain": [
       "<Figure size 432x288 with 1 Axes>"
      ]
     },
     "metadata": {
      "needs_background": "light"
     },
     "output_type": "display_data"
    }
   ],
   "source": [
    "## This code needs to be updated to include all hidden layer numbers\n",
    "x = range(len(accuracy))\n",
    "y = accuracies\n",
    "\n",
    "plt.xlabel(\"Epoch\")\n",
    "plt.ylabel(\"Accuracy\")\n",
    "plt.title(f\"Accuracy for different hidden layer sizes. Total time = {total_time} min\")\n",
    "for i, n in enumerate(y):\n",
    "    plt.plot(x, y[i], label = layer_sizes[i])\n",
    "plt.legend(loc = 'lower right')\n",
    "\n",
    "#plt.savefig('layer_sizes.png')\n",
    "plt.show()"
   ]
  },
  {
   "cell_type": "markdown",
   "metadata": {},
   "source": [
    "### Plot final validation accuracies vs Neural Network structure in 3D plot"
   ]
  },
  {
   "cell_type": "code",
   "execution_count": null,
   "metadata": {
    "collapsed": true
   },
   "outputs": [],
   "source": []
  }
 ],
 "metadata": {
  "kernelspec": {
   "display_name": "Python 3",
   "language": "python",
   "name": "python3"
  },
  "language_info": {
   "codemirror_mode": {
    "name": "ipython",
    "version": 3
   },
   "file_extension": ".py",
   "mimetype": "text/x-python",
   "name": "python",
   "nbconvert_exporter": "python",
   "pygments_lexer": "ipython3",
   "version": "3.8.1"
  }
 },
 "nbformat": 4,
 "nbformat_minor": 2
}
