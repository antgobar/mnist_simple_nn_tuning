{
 "cells": [
  {
   "cell_type": "markdown",
   "metadata": {},
   "source": [
    "# Deep Neural Network for MNIST Classification"
   ]
  },
  {
   "cell_type": "markdown",
   "metadata": {},
   "source": [
    "### Import the relevant packages"
   ]
  },
  {
   "cell_type": "code",
   "execution_count": 126,
   "metadata": {
    "collapsed": true
   },
   "outputs": [],
   "source": [
    "import numpy as np\n",
    "import matplotlib.pyplot as plt\n",
    "from mpl_toolkits.mplot3d import Axes3D\n",
    "import time as t\n",
    "import tensorflow as tf\n",
    "import tensorflow_datasets as tfds"
   ]
  },
  {
   "cell_type": "markdown",
   "metadata": {},
   "source": [
    "### Data is loaded and preprocessed. "
   ]
  },
  {
   "cell_type": "code",
   "execution_count": 127,
   "metadata": {
    "collapsed": true
   },
   "outputs": [],
   "source": [
    "mnist_dataset, mnist_info = tfds.load(name='mnist', with_info=True, as_supervised=True)\n",
    "\n",
    "mnist_train, mnist_test = mnist_dataset['train'], mnist_dataset['test']\n",
    "\n",
    "num_validation_samples = 0.1 * mnist_info.splits['train'].num_examples\n",
    "\n",
    "num_validation_samples = tf.cast(num_validation_samples, tf.int64)\n",
    "\n",
    "num_test_samples = mnist_info.splits['test'].num_examples\n",
    "\n",
    "num_test_samples = tf.cast(num_test_samples, tf.int64)\n",
    "\n",
    "def scale(image, label):\n",
    "    image = tf.cast(image, tf.float32)\n",
    "    image /= 255.\n",
    "\n",
    "    return image, label\n",
    "\n",
    "scaled_train_and_validation_data = mnist_train.map(scale)\n",
    "\n",
    "test_data = mnist_test.map(scale)\n",
    "\n",
    "BUFFER_SIZE = 10000\n",
    "\n",
    "shuffled_train_and_validation_data = scaled_train_and_validation_data.shuffle(BUFFER_SIZE)\n",
    "\n",
    "validation_data = shuffled_train_and_validation_data.take(num_validation_samples)\n",
    "\n",
    "train_data = shuffled_train_and_validation_data.skip(num_validation_samples)\n",
    "\n",
    "BATCH_SIZE = 100\n",
    "\n",
    "train_data = train_data.batch(BATCH_SIZE)\n",
    "\n",
    "validation_data = validation_data.batch(num_validation_samples)\n",
    "\n",
    "test_data = test_data.batch(num_test_samples)\n",
    "\n",
    "validation_inputs, validation_targets = next(iter(validation_data))"
   ]
  },
  {
   "cell_type": "markdown",
   "metadata": {},
   "source": [
    "### Function to create neural net structure and run model"
   ]
  },
  {
   "cell_type": "code",
   "execution_count": 128,
   "metadata": {
    "collapsed": true
   },
   "outputs": [],
   "source": [
    "def make_and_train_NN(HL_size, HL_number, HL_act_function, num_epochs):\n",
    "    '''\n",
    "    Create and train the neural network with inputs for the hidden layer size, \n",
    "    number of hidden layers, hidden layer activation function and number of epochs\n",
    "    '''\n",
    "    \n",
    "    input_size = 784\n",
    "    output_size = 10\n",
    "    \n",
    "    input_layer = tf.keras.layers.Flatten(input_shape=(28, 28, 1))\n",
    "    hidden_layers = [None for _ in range(HL_number)]\n",
    "    output_layer = tf.keras.layers.Dense(output_size, activation='softmax')\n",
    "\n",
    "    for i, n in enumerate(hidden_layers):\n",
    "        hidden_layer = tf.keras.layers.Dense(HL_size, activation=HL_act_function)\n",
    "        hidden_layers[i] = hidden_layer\n",
    "    \n",
    "    model = tf.keras.Sequential([input_layer] + hidden_layers + [output_layer])\n",
    "    \n",
    "    model.compile(optimizer='adam', loss='sparse_categorical_crossentropy', metrics=['accuracy'])\n",
    "\n",
    "    results = model.fit(train_data, epochs=num_epochs, validation_data=(validation_inputs, validation_targets), verbose =0)\n",
    "    val_accuracy = results.history['val_accuracy']\n",
    "    \n",
    "    return val_accuracy"
   ]
  },
  {
   "cell_type": "code",
   "execution_count": 129,
   "metadata": {
    "collapsed": true
   },
   "outputs": [],
   "source": [
    "test = make_and_train_NN(5, 1, 'relu', 10)"
   ]
  },
  {
   "cell_type": "code",
   "execution_count": 130,
   "metadata": {
    "collapsed": false
   },
   "outputs": [
    {
     "data": {
      "text/plain": [
       "0.8811666369438171"
      ]
     },
     "execution_count": 130,
     "metadata": {},
     "output_type": "execute_result"
    }
   ],
   "source": [
    "test[-1]"
   ]
  },
  {
   "cell_type": "markdown",
   "metadata": {},
   "source": [
    "### Function to run multiple layers"
   ]
  },
  {
   "cell_type": "code",
   "execution_count": 131,
   "metadata": {
    "collapsed": false
   },
   "outputs": [],
   "source": [
    "def train_many_NNs(HL_size_min, \n",
    "                   HL_size_max, \n",
    "                   size_step, \n",
    "                   HL_no_min, \n",
    "                   HL_no_max,\n",
    "                   no_step,\n",
    "                   HL_act_function,\n",
    "                   num_epochs,\n",
    "                   last_epoch_only):\n",
    "    \n",
    "    '''\n",
    "    Loop through ranges of hidden layer size and numbers\n",
    "    last_epoch_only - 'yes' if you want to out put value for last epoch\n",
    "    '''\n",
    "    \n",
    "    accuracies = []\n",
    "    HL_sizes = list(range(HL_size_min, HL_size_max + size_step, size_step))\n",
    "    HL_numbers = list(range(HL_no_min, HL_no_max + no_step, no_step))\n",
    "    \n",
    "    start_train_time = t.time()\n",
    "    \n",
    "    for HL_size in HL_sizes:\n",
    "        \n",
    "        accuracies_nest = []\n",
    "        \n",
    "        for HL_number in HL_numbers:\n",
    "            \n",
    "            start_loop_time = t.time()\n",
    "            \n",
    "            accuracy = make_and_train_NN(HL_size, HL_number, HL_act_function, num_epochs)\n",
    "            \n",
    "            if last_epoch_only == 'no':\n",
    "                accuracies_nest.append(accuracy)\n",
    "            elif last_epoch_only == 'yes':\n",
    "                accuracies_nest.append(accuracy[-1])\n",
    "            \n",
    "            time_loop = round(t.time() - start_loop_time,2)\n",
    "            \n",
    "            print(f\"Trained neural net with {HL_number} hidden layers with {HL_size} nodes in {time_loop} seconds.\")\n",
    "        \n",
    "        accuracies.append(accuracies_nest)\n",
    "    \n",
    "    total_train_time = round((t.time() - start_train_time)/60,1)\n",
    "    \n",
    "    print(f\"Total time taken: {total_train_time} minutes.\")\n",
    "    \n",
    "    return accuracies, HL_sizes, HL_numbers"
   ]
  },
  {
   "cell_type": "markdown",
   "metadata": {},
   "source": [
    "# Set hidden layer size and number hyperparameters here"
   ]
  },
  {
   "cell_type": "code",
   "execution_count": 132,
   "metadata": {
    "collapsed": false
   },
   "outputs": [
    {
     "name": "stdout",
     "output_type": "stream",
     "text": [
      "Trained neural net with 1 hidden layers with 10 nodes in 55.06 seconds.\n",
      "Trained neural net with 2 hidden layers with 10 nodes in 55.2 seconds.\n",
      "Trained neural net with 3 hidden layers with 10 nodes in 58.84 seconds.\n",
      "Trained neural net with 4 hidden layers with 10 nodes in 60.34 seconds.\n",
      "Trained neural net with 5 hidden layers with 10 nodes in 59.35 seconds.\n",
      "Trained neural net with 6 hidden layers with 10 nodes in 56.77 seconds.\n",
      "Trained neural net with 7 hidden layers with 10 nodes in 58.11 seconds.\n",
      "Trained neural net with 8 hidden layers with 10 nodes in 58.41 seconds.\n",
      "Trained neural net with 9 hidden layers with 10 nodes in 61.89 seconds.\n",
      "Trained neural net with 10 hidden layers with 10 nodes in 62.68 seconds.\n",
      "Trained neural net with 1 hidden layers with 20 nodes in 63.02 seconds.\n",
      "Trained neural net with 2 hidden layers with 20 nodes in 61.77 seconds.\n",
      "Trained neural net with 3 hidden layers with 20 nodes in 61.06 seconds.\n",
      "Trained neural net with 4 hidden layers with 20 nodes in 61.94 seconds.\n",
      "Trained neural net with 5 hidden layers with 20 nodes in 62.7 seconds.\n",
      "Trained neural net with 6 hidden layers with 20 nodes in 63.61 seconds.\n",
      "Trained neural net with 7 hidden layers with 20 nodes in 60.01 seconds.\n",
      "Trained neural net with 8 hidden layers with 20 nodes in 60.53 seconds.\n",
      "Trained neural net with 9 hidden layers with 20 nodes in 60.53 seconds.\n",
      "Trained neural net with 10 hidden layers with 20 nodes in 60.93 seconds.\n",
      "Trained neural net with 1 hidden layers with 30 nodes in 56.96 seconds.\n",
      "Trained neural net with 2 hidden layers with 30 nodes in 56.73 seconds.\n",
      "Trained neural net with 3 hidden layers with 30 nodes in 57.53 seconds.\n",
      "Trained neural net with 4 hidden layers with 30 nodes in 57.92 seconds.\n",
      "Trained neural net with 5 hidden layers with 30 nodes in 59.95 seconds.\n",
      "Trained neural net with 6 hidden layers with 30 nodes in 59.06 seconds.\n",
      "Trained neural net with 7 hidden layers with 30 nodes in 60.27 seconds.\n",
      "Trained neural net with 8 hidden layers with 30 nodes in 59.97 seconds.\n",
      "Trained neural net with 9 hidden layers with 30 nodes in 64.03 seconds.\n",
      "Trained neural net with 10 hidden layers with 30 nodes in 64.09 seconds.\n",
      "Trained neural net with 1 hidden layers with 40 nodes in 57.96 seconds.\n",
      "Trained neural net with 2 hidden layers with 40 nodes in 59.16 seconds.\n",
      "Trained neural net with 3 hidden layers with 40 nodes in 60.36 seconds.\n",
      "Trained neural net with 4 hidden layers with 40 nodes in 60.09 seconds.\n",
      "Trained neural net with 5 hidden layers with 40 nodes in 61.76 seconds.\n",
      "Trained neural net with 6 hidden layers with 40 nodes in 62.26 seconds.\n",
      "Trained neural net with 7 hidden layers with 40 nodes in 62.63 seconds.\n",
      "Trained neural net with 8 hidden layers with 40 nodes in 62.91 seconds.\n",
      "Trained neural net with 9 hidden layers with 40 nodes in 64.67 seconds.\n",
      "Trained neural net with 10 hidden layers with 40 nodes in 63.13 seconds.\n",
      "Trained neural net with 1 hidden layers with 50 nodes in 58.39 seconds.\n",
      "Trained neural net with 2 hidden layers with 50 nodes in 59.04 seconds.\n",
      "Trained neural net with 3 hidden layers with 50 nodes in 60.53 seconds.\n",
      "Trained neural net with 4 hidden layers with 50 nodes in 61.5 seconds.\n",
      "Trained neural net with 5 hidden layers with 50 nodes in 62.09 seconds.\n",
      "Trained neural net with 6 hidden layers with 50 nodes in 64.82 seconds.\n",
      "Trained neural net with 7 hidden layers with 50 nodes in 71.35 seconds.\n",
      "Trained neural net with 8 hidden layers with 50 nodes in 68.61 seconds.\n",
      "Trained neural net with 9 hidden layers with 50 nodes in 68.86 seconds.\n",
      "Trained neural net with 10 hidden layers with 50 nodes in 66.34 seconds.\n",
      "Trained neural net with 1 hidden layers with 60 nodes in 59.18 seconds.\n",
      "Trained neural net with 2 hidden layers with 60 nodes in 61.3 seconds.\n",
      "Trained neural net with 3 hidden layers with 60 nodes in 60.78 seconds.\n",
      "Trained neural net with 4 hidden layers with 60 nodes in 61.59 seconds.\n",
      "Trained neural net with 5 hidden layers with 60 nodes in 64.04 seconds.\n",
      "Trained neural net with 6 hidden layers with 60 nodes in 65.3 seconds.\n",
      "Trained neural net with 7 hidden layers with 60 nodes in 66.68 seconds.\n",
      "Trained neural net with 8 hidden layers with 60 nodes in 66.62 seconds.\n",
      "Trained neural net with 9 hidden layers with 60 nodes in 67.58 seconds.\n",
      "Trained neural net with 10 hidden layers with 60 nodes in 67.86 seconds.\n",
      "Trained neural net with 1 hidden layers with 70 nodes in 60.03 seconds.\n",
      "Trained neural net with 2 hidden layers with 70 nodes in 61.2 seconds.\n",
      "Trained neural net with 3 hidden layers with 70 nodes in 63.35 seconds.\n",
      "Trained neural net with 4 hidden layers with 70 nodes in 65.31 seconds.\n",
      "Trained neural net with 5 hidden layers with 70 nodes in 68.12 seconds.\n",
      "Trained neural net with 6 hidden layers with 70 nodes in 68.97 seconds.\n",
      "Trained neural net with 7 hidden layers with 70 nodes in 66.75 seconds.\n",
      "Trained neural net with 8 hidden layers with 70 nodes in 67.34 seconds.\n",
      "Trained neural net with 9 hidden layers with 70 nodes in 68.3 seconds.\n",
      "Trained neural net with 10 hidden layers with 70 nodes in 69.4 seconds.\n",
      "Trained neural net with 1 hidden layers with 80 nodes in 60.39 seconds.\n",
      "Trained neural net with 2 hidden layers with 80 nodes in 61.61 seconds.\n",
      "Trained neural net with 3 hidden layers with 80 nodes in 67.08 seconds.\n",
      "Trained neural net with 4 hidden layers with 80 nodes in 66.34 seconds.\n",
      "Trained neural net with 5 hidden layers with 80 nodes in 67.47 seconds.\n",
      "Trained neural net with 6 hidden layers with 80 nodes in 68.77 seconds.\n",
      "Trained neural net with 7 hidden layers with 80 nodes in 69.72 seconds.\n",
      "Trained neural net with 8 hidden layers with 80 nodes in 68.97 seconds.\n",
      "Trained neural net with 9 hidden layers with 80 nodes in 71.92 seconds.\n",
      "Trained neural net with 10 hidden layers with 80 nodes in 72.97 seconds.\n",
      "Trained neural net with 1 hidden layers with 90 nodes in 62.37 seconds.\n",
      "Trained neural net with 2 hidden layers with 90 nodes in 64.21 seconds.\n",
      "Trained neural net with 3 hidden layers with 90 nodes in 71.6 seconds.\n",
      "Trained neural net with 4 hidden layers with 90 nodes in 68.46 seconds.\n",
      "Trained neural net with 5 hidden layers with 90 nodes in 67.04 seconds.\n",
      "Trained neural net with 6 hidden layers with 90 nodes in 68.15 seconds.\n",
      "Trained neural net with 7 hidden layers with 90 nodes in 69.87 seconds.\n",
      "Trained neural net with 8 hidden layers with 90 nodes in 74.96 seconds.\n",
      "Trained neural net with 9 hidden layers with 90 nodes in 81.26 seconds.\n",
      "Trained neural net with 10 hidden layers with 90 nodes in 84.0 seconds.\n",
      "Trained neural net with 1 hidden layers with 100 nodes in 64.88 seconds.\n",
      "Trained neural net with 2 hidden layers with 100 nodes in 66.0 seconds.\n",
      "Trained neural net with 3 hidden layers with 100 nodes in 65.32 seconds.\n",
      "Trained neural net with 4 hidden layers with 100 nodes in 69.19 seconds.\n",
      "Trained neural net with 5 hidden layers with 100 nodes in 68.1 seconds.\n",
      "Trained neural net with 6 hidden layers with 100 nodes in 70.72 seconds.\n",
      "Trained neural net with 7 hidden layers with 100 nodes in 76.18 seconds.\n",
      "Trained neural net with 8 hidden layers with 100 nodes in 76.37 seconds.\n",
      "Trained neural net with 9 hidden layers with 100 nodes in 78.85 seconds.\n",
      "Trained neural net with 10 hidden layers with 100 nodes in 78.71 seconds.\n",
      "Total time taken: 107.6 minutes.\n"
     ]
    }
   ],
   "source": [
    "NUM_EPOCHS = 15\n",
    "start = t.time()\n",
    "accuracies, HL_sizes, HL_numbers = train_many_NNs(HL_size_min = 10, \n",
    "                                                  HL_size_max = 100, \n",
    "                                                  size_step = 10, \n",
    "                                                  HL_no_min = 1, \n",
    "                                                  HL_no_max = 10, \n",
    "                                                  no_step = 1, \n",
    "                                                  HL_act_function = 'relu', \n",
    "                                                  num_epochs = NUM_EPOCHS,\n",
    "                                                  last_epoch_only = 'yes')\n",
    "total_time = round((t.time() - start)/60,1)"
   ]
  },
  {
   "cell_type": "code",
   "execution_count": 133,
   "metadata": {
    "collapsed": true
   },
   "outputs": [],
   "source": [
    "# This is used to check the model accuracy with respect to the test data\n",
    "# test_loss, test_accuracy = model.evaluate(test_data)"
   ]
  },
  {
   "cell_type": "code",
   "execution_count": 135,
   "metadata": {
    "collapsed": false
   },
   "outputs": [
    {
     "data": {
      "text/plain": [
       "(array([[0.93150002, 0.93966669, 0.92966664, 0.93833333, 0.93816668,\n",
       "         0.91566664, 0.92000002, 0.92549998, 0.89883333, 0.9145    ],\n",
       "        [0.96316665, 0.9691667 , 0.96216667, 0.96433336, 0.96700001,\n",
       "         0.96100003, 0.95616668, 0.95966667, 0.95999998, 0.96066666],\n",
       "        [0.97083336, 0.97416669, 0.97616667, 0.97633332, 0.97466666,\n",
       "         0.97666669, 0.97399998, 0.97549999, 0.97333336, 0.96633333],\n",
       "        [0.97883332, 0.98416668, 0.98233336, 0.98066664, 0.97383332,\n",
       "         0.97433335, 0.97733331, 0.98116666, 0.97250003, 0.97600001],\n",
       "        [0.9795    , 0.98699999, 0.98799998, 0.98016667, 0.98699999,\n",
       "         0.98000002, 0.98183334, 0.98066664, 0.98283333, 0.97883332],\n",
       "        [0.98183334, 0.98633331, 0.98883331, 0.98733336, 0.98683333,\n",
       "         0.98283333, 0.98216665, 0.98400003, 0.98083335, 0.97966665],\n",
       "        [0.98783332, 0.991     , 0.98816669, 0.98833334, 0.9885    ,\n",
       "         0.97966665, 0.98783332, 0.98900002, 0.97899997, 0.98150003],\n",
       "        [0.9885    , 0.98900002, 0.99266666, 0.98549998, 0.98900002,\n",
       "         0.98833334, 0.986     , 0.98250002, 0.98799998, 0.98566669],\n",
       "        [0.9885    , 0.99299997, 0.99083334, 0.99183333, 0.98666668,\n",
       "         0.98750001, 0.99133331, 0.98449999, 0.98983335, 0.98900002],\n",
       "        [0.98966664, 0.99533331, 0.99166667, 0.99083334, 0.98949999,\n",
       "         0.9885    , 0.98816669, 0.98549998, 0.98500001, 0.98650002]]),\n",
       " [10, 20, 30, 40, 50, 60, 70, 80, 90, 100],\n",
       " [1, 2, 3, 4, 5, 6, 7, 8, 9, 10])"
      ]
     },
     "execution_count": 135,
     "metadata": {},
     "output_type": "execute_result"
    }
   ],
   "source": [
    "np.array(accuracies), HL_sizes, HL_numbers"
   ]
  },
  {
   "cell_type": "markdown",
   "metadata": {},
   "source": [
    "### Plot validation accuracy vs epochs for different neural net dimensions (hyperparameters)"
   ]
  },
  {
   "cell_type": "code",
   "execution_count": 136,
   "metadata": {
    "collapsed": false
   },
   "outputs": [],
   "source": [
    "import seaborn as sns"
   ]
  },
  {
   "cell_type": "code",
   "execution_count": 137,
   "metadata": {
    "collapsed": false
   },
   "outputs": [],
   "source": [
    "x_axis_labels = np.array(HL_numbers)\n",
    "y_axis_labels = np.array(HL_sizes)\n",
    "z = np.array(accuracies)"
   ]
  },
  {
   "cell_type": "code",
   "execution_count": 142,
   "metadata": {
    "collapsed": false
   },
   "outputs": [
    {
     "data": {
      "image/png": "[encoded data removed]",
      "text/plain": [
       "<Figure size 432x288 with 2 Axes>"
      ]
     },
     "metadata": {
      "needs_background": "light"
     },
     "output_type": "display_data"
    }
   ],
   "source": [
    "ax = sns.heatmap(z,xticklabels=x_axis_labels, yticklabels=y_axis_labels, cmap=\"YlOrRd\")\n",
    "ax.invert_yaxis()\n",
    "plt.title(f\"Validation accuracy for number and size of hidden layers after {NUM_EPOCHS} epochs.\")\n",
    "plt.xlabel('Number of hidden layers')\n",
    "plt.ylabel('Size of hidden layers')\n",
    "plt.savefig('NN_hyperparameters_2.png')\n",
    "plt.show()"
   ]
  },
  {
   "cell_type": "code",
   "execution_count": 146,
   "metadata": {
    "collapsed": false
   },
   "outputs": [
    {
     "data": {
      "image/png": "[encoded data removed]",
      "text/plain": [
       "<Figure size 432x288 with 2 Axes>"
      ]
     },
     "metadata": {
      "needs_background": "light"
     },
     "output_type": "display_data"
    }
   ],
   "source": [
    "ztest = np.array([[1,2,3], [4,5,6], [7,8,9]])\n",
    "ax = sns.heatmap(ztest, annot = True)\n",
    "ax.invert_yaxis()"
   ]
  },
  {
   "cell_type": "code",
   "execution_count": null,
   "metadata": {
    "collapsed": true
   },
   "outputs": [],
   "source": []
  }
 ],
 "metadata": {
  "kernelspec": {
   "display_name": "Python 3",
   "language": "python",
   "name": "python3"
  },
  "language_info": {
   "codemirror_mode": {
    "name": "ipython",
    "version": 3
   },
   "file_extension": ".py",
   "mimetype": "text/x-python",
   "name": "python",
   "nbconvert_exporter": "python",
   "pygments_lexer": "ipython3",
   "version": "3.8.1"
  }
 },
 "nbformat": 4,
 "nbformat_minor": 2
}
